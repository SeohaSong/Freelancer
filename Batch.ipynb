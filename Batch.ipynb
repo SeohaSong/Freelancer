{
 "cells": [
  {
   "cell_type": "code",
   "execution_count": 4,
   "metadata": {},
   "outputs": [],
   "source": [
    "import pandas as pd\n",
    "import numpy as np\n",
    "import sys\n",
    "import os\n",
    "from matplotlib import pyplot as plt\n",
    "\n",
    "from gensim.models import Word2Vec"
   ]
  },
  {
   "cell_type": "code",
   "execution_count": 20,
   "metadata": {},
   "outputs": [],
   "source": [
    "def get_Xy(df, model, max_word_n):\n",
    "\n",
    "    def tune_size(i, words):\n",
    "        words = [model.wv[word] for word in words][:max_word_n]\n",
    "        if i%100 == 0:\n",
    "            percent = i/data_n*100\n",
    "            sys.stdout.write(\"\\r% 5.2f%%\"%(percent))\n",
    "        return np.array(words+placeholder[len(words):])\n",
    "\n",
    "    data_n = len(df)\n",
    "    placeholder = [np.array([0]*100)]*max_word_n\n",
    "    \n",
    "    X = np.array([tune_size(i, words)\n",
    "                  for i, words in enumerate(df[\"review\"])])\n",
    "    sys.stdout.write(\"\\r% 5.2f%%\"%100)\n",
    "    \n",
    "    y = np.array([[1, 0] if l == \"neg\" else [0, 1] for l in df[\"label\"]])\n",
    "    \n",
    "    return X, y"
   ]
  },
  {
   "cell_type": "code",
   "execution_count": 21,
   "metadata": {},
   "outputs": [
    {
     "name": "stdout",
     "output_type": "stream",
     "text": [
      " 99.80%"
     ]
    },
    {
     "ename": "ValueError",
     "evalue": "could not broadcast input array from shape (80,128) into shape (80)",
     "output_type": "error",
     "traceback": [
      "\u001b[1;31m---------------------------------------------------------------------------\u001b[0m",
      "\u001b[1;31mValueError\u001b[0m                                Traceback (most recent call last)",
      "\u001b[1;32m<ipython-input-21-d8d110c4b2b2>\u001b[0m in \u001b[0;36m<module>\u001b[1;34m()\u001b[0m\n\u001b[0;32m     10\u001b[0m \u001b[0mmodel\u001b[0m \u001b[1;33m=\u001b[0m \u001b[0mpd\u001b[0m\u001b[1;33m.\u001b[0m\u001b[0mread_pickle\u001b[0m\u001b[1;33m(\u001b[0m\u001b[1;34m\"./data/%s_model\"\u001b[0m\u001b[1;33m%\u001b[0m\u001b[0mcase\u001b[0m\u001b[1;33m)\u001b[0m\u001b[1;33m\u001b[0m\u001b[0m\n\u001b[0;32m     11\u001b[0m \u001b[1;33m\u001b[0m\u001b[0m\n\u001b[1;32m---> 12\u001b[1;33m \u001b[0mX\u001b[0m\u001b[1;33m,\u001b[0m \u001b[0my\u001b[0m \u001b[1;33m=\u001b[0m \u001b[0mget_Xy\u001b[0m\u001b[1;33m(\u001b[0m\u001b[0mdf\u001b[0m\u001b[1;33m,\u001b[0m \u001b[0mmodel\u001b[0m\u001b[1;33m,\u001b[0m \u001b[0mmax_word_n\u001b[0m\u001b[1;33m)\u001b[0m\u001b[1;33m\u001b[0m\u001b[0m\n\u001b[0m",
      "\u001b[1;32m<ipython-input-20-62a03af83020>\u001b[0m in \u001b[0;36mget_Xy\u001b[1;34m(df, model, max_word_n)\u001b[0m\n\u001b[0;32m     13\u001b[0m \u001b[1;33m\u001b[0m\u001b[0m\n\u001b[0;32m     14\u001b[0m     X = np.array([tune_size(i, words)\n\u001b[1;32m---> 15\u001b[1;33m                   for i, words in enumerate(df[\"review\"])])\n\u001b[0m\u001b[0;32m     16\u001b[0m     \u001b[0msys\u001b[0m\u001b[1;33m.\u001b[0m\u001b[0mstdout\u001b[0m\u001b[1;33m.\u001b[0m\u001b[0mwrite\u001b[0m\u001b[1;33m(\u001b[0m\u001b[1;34m\"\\r% 5.2f%%\"\u001b[0m\u001b[1;33m%\u001b[0m\u001b[1;36m100\u001b[0m\u001b[1;33m)\u001b[0m\u001b[1;33m\u001b[0m\u001b[0m\n\u001b[0;32m     17\u001b[0m \u001b[1;33m\u001b[0m\u001b[0m\n",
      "\u001b[1;31mValueError\u001b[0m: could not broadcast input array from shape (80,128) into shape (80)"
     ]
    }
   ],
   "source": [
    "cases = [\"normal\", \"underscore\"]\n",
    "case = \"normal\"\n",
    "\n",
    "if case == \"normal\":\n",
    "    max_word_n = 80\n",
    "elif case == \"underscore\":\n",
    "    max_word_n = 160\n",
    "\n",
    "df = pd.read_pickle(\"./data/%s_df\"%case)\n",
    "model = pd.read_pickle(\"./data/%s_model\"%case)\n",
    "\n",
    "X, y = get_Xy(df, model, max_word_n)"
   ]
  },
  {
   "cell_type": "code",
   "execution_count": 17,
   "metadata": {},
   "outputs": [
    {
     "data": {
      "text/plain": [
       "28981"
      ]
     },
     "execution_count": 17,
     "metadata": {},
     "output_type": "execute_result"
    }
   ],
   "source": []
  },
  {
   "cell_type": "code",
   "execution_count": 111,
   "metadata": {},
   "outputs": [],
   "source": [
    "lengths = [len(words.split()) for words in df[\"review\"]]\n",
    "df = df.iloc[[False if l > max_length else True for l in lengths]]\n",
    "data_n = len(df)\n",
    "print(data_n)\n",
    "\n",
    "sent_se = pd.Series([words.split() for words in df[\"review\"]])\n",
    "\n",
    "plt.figure(figsize=[15, 5])\n",
    "plt.hist(lengths, bins=300)\n",
    "plt.show()\n",
    "\n",
    "def save_batch_csv(df , type_, n):\n",
    "    df = df[df[\"type\"] == type_]\n",
    "    pos_df = df[df[\"label\"] == \"pos\"]\n",
    "    neg_df = df[df[\"label\"] == \"neg\"]\n",
    "    df = pd.concat([pos_df[:n//2], neg_df[:n//2]])\n",
    "    df.to_csv(\"./data/batch_of_%s.csv\"%type_)\n",
    "\n",
    "save_batch_csv(df, \"test\", 2000)\n",
    "save_batch_csv(df, \"train\", 8000)"
   ]
  },
  {
   "cell_type": "code",
   "execution_count": null,
   "metadata": {},
   "outputs": [],
   "source": []
  }
 ],
 "metadata": {
  "kernelspec": {
   "display_name": "Python 3",
   "language": "python",
   "name": "python3"
  },
  "language_info": {
   "codemirror_mode": {
    "name": "ipython",
    "version": 3
   },
   "file_extension": ".py",
   "mimetype": "text/x-python",
   "name": "python",
   "nbconvert_exporter": "python",
   "pygments_lexer": "ipython3",
   "version": "3.6.4"
  }
 },
 "nbformat": 4,
 "nbformat_minor": 2
}
