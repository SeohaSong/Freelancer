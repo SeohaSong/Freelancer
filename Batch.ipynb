{
 "cells": [
  {
   "cell_type": "code",
   "execution_count": 2,
   "metadata": {},
   "outputs": [],
   "source": [
    "import pandas as pd\n",
    "import numpy as np\n",
    "import sys\n",
    "import os\n",
    "\n",
    "from gensim.models import Word2Vec"
   ]
  },
  {
   "cell_type": "code",
   "execution_count": 3,
   "metadata": {},
   "outputs": [],
   "source": [
    "def get_Xy(df, model, max_word_n):\n",
    "\n",
    "    def tune_size(i, words):\n",
    "        words = [model.wv[word] for word in words][:max_word_n]\n",
    "        if i%100 == 0:\n",
    "            percent = i/data_n*100\n",
    "            sys.stdout.write(\"\\r% 5.2f%%\"%(percent))\n",
    "        return np.array(words+placeholder[len(words):])\n",
    "\n",
    "    data_n = len(df)\n",
    "    dim_n = len(model.wv[model.wv.index2word[0]])\n",
    "    placeholder = [np.array([0]*dim_n)]*max_word_n\n",
    "    \n",
    "    X = np.array([tune_size(i, words)\n",
    "                  for i, words in enumerate(df[\"review\"])])\n",
    "    sys.stdout.write(\"\\r% 5.2f%%\\n\"%100)\n",
    "    \n",
    "    y = np.array([[1, 0] if l == \"neg\" else [0, 1] for l in df[\"label\"]])\n",
    "    \n",
    "    return X, y"
   ]
  },
  {
   "cell_type": "code",
   "execution_count": 5,
   "metadata": {},
   "outputs": [
    {
     "name": "stdout",
     "output_type": "stream",
     "text": [
      " 100.00%\n",
      "(50000, 160, 128) (50000, 2)\n"
     ]
    }
   ],
   "source": [
    "for case in [\"underscore\"]:\n",
    "    \n",
    "    if case == \"normal\":\n",
    "        max_word_n = 80\n",
    "    elif case == \"underscore\":\n",
    "        max_word_n = 160\n",
    "\n",
    "    df = pd.read_pickle(\"./data/%s_df\"%case)\n",
    "    data_n = len(df)\n",
    "\n",
    "    model = pd.read_pickle(\"./data/%s_model\"%case)\n",
    "\n",
    "    X, y = get_Xy(df, model, max_word_n)\n",
    "    print(X.shape, y.shape)\n",
    "\n",
    "    pd.to_pickle(X[:data_n//2], \"./data/%s_te_X\"%case)\n",
    "    pd.to_pickle(X[data_n//2:], \"./data/%s_tr_X\"%case)\n",
    "\n",
    "pd.to_pickle(y[:data_n//2], \"./data/te_y\")\n",
    "pd.to_pickle(y[data_n//2:], \"./data/tr_y\")"
   ]
  },
  {
   "cell_type": "code",
   "execution_count": null,
   "metadata": {},
   "outputs": [],
   "source": []
  }
 ],
 "metadata": {
  "kernelspec": {
   "display_name": "Python 3",
   "language": "python",
   "name": "python3"
  },
  "language_info": {
   "codemirror_mode": {
    "name": "ipython",
    "version": 3
   },
   "file_extension": ".py",
   "mimetype": "text/x-python",
   "name": "python",
   "nbconvert_exporter": "python",
   "pygments_lexer": "ipython3",
   "version": "3.6.4"
  }
 },
 "nbformat": 4,
 "nbformat_minor": 2
}
