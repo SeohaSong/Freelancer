{
 "cells": [
  {
   "cell_type": "code",
   "execution_count": 13,
   "metadata": {},
   "outputs": [],
   "source": [
    "import pandas as pd\n",
    "import numpy as np\n",
    "import sys\n",
    "import os\n",
    "from matplotlib import pyplot as plt\n",
    "\n",
    "import tensorflow as tf\n",
    "from gensim.models import Word2Vec"
   ]
  },
  {
   "cell_type": "code",
   "execution_count": 3,
   "metadata": {},
   "outputs": [],
   "source": [
    "class TF_Agent():\n",
    "    \n",
    "    def __init__(self, keys):\n",
    "        self._initialize(keys)\n",
    "        \n",
    "    def _initialize(self, keys):\n",
    "        np.random.seed(0)\n",
    "        self.log_df = pd.DataFrame({key: [] for key in keys})\n",
    "        self.keys = self.log_df.columns\n",
    "        self.interesting = \",\".join(self.log_df.columns)\n",
    "        self.iter_count = 0     \n",
    "\n",
    "    def set_batch(self, n, feed_dict):\n",
    "        \n",
    "        keys = list(feed_dict.keys())\n",
    "        \n",
    "        data_n = len(feed_dict[keys[0]])\n",
    "        indices = np.random.choice(range(data_n), n, replace=False)\n",
    "        \n",
    "        feed_dict = {key: feed_dict[key][indices] for key in keys}\n",
    "        self.feed_dict = feed_dict\n",
    "    \n",
    "    def run_session(self, sess):\n",
    "        \n",
    "        values = sess.run(eval(self.interesting),\n",
    "                          feed_dict=self.feed_dict)\n",
    "        \n",
    "        self.recent_log = pd.Series(values, index=self.keys)\n",
    "        self.log_df = self.log_df.append([self.recent_log])\n",
    "        \n",
    "        self.iter_count += 1\n",
    "        \n",
    "    def trace(self, args, one_line_text=\"\"):\n",
    "        \n",
    "        iter_count = self.iter_count\n",
    "        deco = [\"-\", \"\\\\\", \"|\", \"/\"][iter_count%4]\n",
    "        \n",
    "        one_line_text = \"Iter: % 6d\"%iter_count\n",
    "        for arg in args:\n",
    "            one_line_text += \" %s %s: %0.9f\"%(\n",
    "                deco, arg, self.recent_log[arg]\n",
    "            )\n",
    "\n",
    "        sys.stdout.write(\"\\r%s\"%one_line_text)"
   ]
  },
  {
   "cell_type": "code",
   "execution_count": 86,
   "metadata": {},
   "outputs": [],
   "source": [
    "def get_Xy(df, model):\n",
    "\n",
    "    def tune_size(i, words):\n",
    "        length = len(words)\n",
    "        words = [model.wv[word] for word in words]\n",
    "        if i%100 == 0:\n",
    "            percent = i/data_n*100\n",
    "            sys.stdout.write(\"\\r% 5.2f%%\"%(percent))\n",
    "        return np.array(words+placeholder[length:])\n",
    "\n",
    "    maxi = max(len(text.split()) for text in df[\"review\"])\n",
    "    placeholder = [np.array([0]*100)]*maxi\n",
    "    model = pd.read_pickle(\"./data/underscore_wv\")\n",
    "    \n",
    "    X = np.array([tune_size(i, words)\n",
    "                  for i, words in enumerate(sent_se)])\n",
    "    sys.stdout.write(\"\\r% 5.2f%%\"%100)\n",
    "    \n",
    "    y = np.array([[1, 0] if l == \"neg\" else [0, 1] for l in df[\"label\"]])\n",
    "    \n",
    "    return X, y"
   ]
  },
  {
   "cell_type": "code",
   "execution_count": 100,
   "metadata": {},
   "outputs": [
    {
     "name": "stdout",
     "output_type": "stream",
     "text": [
      "35290\n"
     ]
    },
    {
     "data": {
      "image/png": "[encoded data removed]",
      "text/plain": [
       "<matplotlib.figure.Figure at 0x19786834828>"
      ]
     },
     "metadata": {},
     "output_type": "display_data"
    }
   ],
   "source": [
    "max_length = 250\n",
    "\n",
    "df = pd.read_pickle(\"./data/preprocessed_df\")\n",
    "df = df[df[\"label\"] != \"unsup\"]\n",
    "\n",
    "lengths = [len(words.split()) for words in df[\"review\"]]\n",
    "df = df.iloc[[False if l > max_length else True for l in lengths]]\n",
    "data_n = len(df)\n",
    "print(data_n)\n",
    "\n",
    "sent_se = pd.Series([words.split() for words in df[\"review\"]])\n",
    "\n",
    "plt.figure(figsize=[15, 5])\n",
    "plt.hist(lengths, bins=300)\n",
    "plt.show()"
   ]
  },
  {
   "cell_type": "code",
   "execution_count": 111,
   "metadata": {},
   "outputs": [],
   "source": [
    "def save_batch_csv(df , type_, n):\n",
    "    df = df[df[\"type\"] == type_]\n",
    "    pos_df = df[df[\"label\"] == \"pos\"]\n",
    "    neg_df = df[df[\"label\"] == \"neg\"]\n",
    "    df = pd.concat([pos_df[:n//2], neg_df[:n//2]])\n",
    "    df.to_csv(\"./data/batch_of_%s.csv\"%type_)\n",
    "\n",
    "save_batch_csv(df, \"test\", 2000)\n",
    "save_batch_csv(df, \"train\", 8000)"
   ]
  },
  {
   "cell_type": "code",
   "execution_count": null,
   "metadata": {},
   "outputs": [],
   "source": []
  }
 ],
 "metadata": {
  "kernelspec": {
   "display_name": "Python 3",
   "language": "python",
   "name": "python3"
  },
  "language_info": {
   "codemirror_mode": {
    "name": "ipython",
    "version": 3
   },
   "file_extension": ".py",
   "mimetype": "text/x-python",
   "name": "python",
   "nbconvert_exporter": "python",
   "pygments_lexer": "ipython3",
   "version": "3.6.4"
  }
 },
 "nbformat": 4,
 "nbformat_minor": 2
}
