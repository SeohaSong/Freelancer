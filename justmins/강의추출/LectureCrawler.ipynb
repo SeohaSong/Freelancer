{
 "cells": [
  {
   "cell_type": "markdown",
   "metadata": {},
   "source": [
    "# 교양 강의 리스트 (서울캠퍼스)\n",
    "# 대학 강의 리스트 (서울캠퍼스)\n",
    "# 대학원 강의 리스트 (일반대학원)\n",
    "## by 고려대 개발자\n",
    "---"
   ]
  },
  {
   "cell_type": "code",
   "execution_count": 1,
   "metadata": {
    "collapsed": true
   },
   "outputs": [],
   "source": [
    "import requests\n",
    "from pprint import pprint\n",
    "from bs4 import BeautifulSoup\n",
    "import re\n",
    "import pandas as pd"
   ]
  },
  {
   "cell_type": "markdown",
   "metadata": {},
   "source": [
    "# 교양 강의 리스트"
   ]
  },
  {
   "cell_type": "code",
   "execution_count": 2,
   "metadata": {
    "collapsed": true
   },
   "outputs": [],
   "source": [
    "def get_cult_lectures(year=\"2018\", term=\"1R\"):\n",
    "\n",
    "    def get_depts():\n",
    "        url = \"http://sugang.korea.ac.kr/lecture/LecEtcSub.jsp?lang=KOR\"\n",
    "        response_text = requests.get(url).text\n",
    "        bs = BeautifulSoup(response_text, \"html.parser\")\n",
    "        cols1 = [{\"col\": option[\"value\"], \"col_name\": option.text,\n",
    "                  \"dept\": option[\"value\"], \"dept_name\": option.text}\n",
    "                 for option in bs.select(\"[name='col'] option\")[1:]]\n",
    "        url = \"http://sugang.korea.ac.kr/lecture/LecDeptPopup.jsp?frm=frm_ets&colcd=01&deptcd=&dept=dept&lang=KOR\"\n",
    "        response_text = requests.get(url).text\n",
    "        bs = BeautifulSoup(response_text, \"html.parser\")\n",
    "        script_lines = bs.select_one(\"script\").text.replace(\"\\r\", \"\").replace(\"\\t\", \"\").split(\"\\n\")\n",
    "        value_filter = re.compile('el.value =')\n",
    "        text_filter = re.compile('el.text =')\n",
    "        color_filter = re.compile('el.style.color =')\n",
    "        value_filtered_lines = list(filter(value_filter.search, script_lines))\n",
    "        text_filtered_lines = list(filter(text_filter.search, script_lines))\n",
    "        color_filtered_lines = list(filter(color_filter.search, script_lines))\n",
    "        values = [line.split(\"\\\"\")[1] for line in value_filtered_lines]\n",
    "        texts = [line.split(\"\\\"\")[1] for line in text_filtered_lines]\n",
    "        colors = [line.split(\"\\\"\")[1] for line in color_filtered_lines]\n",
    "        cols2 = [{'col': '01', 'col_name': '교양', \"dept\": value, \"dept_name\": texts[i]}\n",
    "                 for i, value in enumerate(values)\n",
    "                 if colors[i] == \"black\"]\n",
    "        depts = [*cols2, *cols1]\n",
    "        return depts\n",
    "    \n",
    "    def _preproc(text):\n",
    "        return text.replace(\"\\t\", \"\").replace(\"\\n\", \"\").replace(\"\\xa0\", \"\").replace(\"\\r\", \" \")\n",
    "    \n",
    "    def _get_lecture_info(row):\n",
    "        divide = _preproc(row.select_one(\"td:nth-of-type(2)\").text)\n",
    "        title = _preproc(row.select_one(\"td:nth-of-type(4)\").text)\n",
    "        professor = _preproc(row.select_one(\"td:nth-of-type(5)\").text)\n",
    "        credit = _preproc(row.select_one(\"td:nth-of-type(6)\").text)\n",
    "        time_ = _preproc(row.select_one(\"td:nth-of-type(7)\").text)\n",
    "        lecture_info = {\"courseDivide\": divide, \"courseTitle\": title, \"courseProfessor\": professor,\n",
    "                        \"courseCredit\": credit, \"courseTime\": time_}\n",
    "        return lecture_info\n",
    "    \n",
    "    def get_lectures(dept):\n",
    "        url = \"http://sugang.korea.ac.kr/lecture/LecEtcSub.jsp?lang=KOR\"\n",
    "        params = {'yy': year, 'tm': term, 'campus': '1', 'col': dept[\"col\"]}\n",
    "        if dept[\"dept\"] != dept[\"col\"]:\n",
    "            params[\"dept\"] = dept[\"dept\"]\n",
    "        response_text = requests.post(url, data=params).text\n",
    "        bs = BeautifulSoup(response_text, \"html.parser\")\n",
    "        try:\n",
    "            rows = bs.select_one(\"tbody\").select(\"tr\")\n",
    "            lecture_infos = [_get_lecture_info(row) for row in rows]\n",
    "            lectures = [{\"courseUniversity\": \"학부\", \"courseYear\": year, \"courseTerm\": term,\n",
    "                         \"courseArea\": \"교양\", \"courseMajor\": dept[\"dept_name\"], **lecture_info} \n",
    "                        for lecture_info in lecture_infos]\n",
    "        except:\n",
    "            lectures = []\n",
    "        return lectures\n",
    "\n",
    "    depts = get_depts()\n",
    "    lectures = sum([get_lectures(dept) for dept in depts], [])\n",
    "\n",
    "    return lectures"
   ]
  },
  {
   "cell_type": "markdown",
   "metadata": {},
   "source": [
    "# 대학 강의 리스트"
   ]
  },
  {
   "cell_type": "code",
   "execution_count": 3,
   "metadata": {
    "collapsed": true
   },
   "outputs": [],
   "source": [
    "def get_univ_lectures(year=\"2018\", term=\"1R\"):\n",
    "    \n",
    "    def get_cols():\n",
    "        url = \"http://sugang.korea.ac.kr/lecture/LecMajorSub.jsp?lang=KOR\"\n",
    "        response_text = requests.get(url).text\n",
    "        bs = BeautifulSoup(response_text, \"html.parser\")\n",
    "        cols = [{\"col_name\": option.text, \"col\": option[\"value\"]} for option in bs.select(\"#col option\")[1:]\n",
    "                if option.text[-3:] != \"(관)\"]\n",
    "        return cols\n",
    "\n",
    "    def get_depts(col):\n",
    "        url = \"http://sugang.korea.ac.kr/lecture/LecDeptPopup.jsp?frm=frm_ms&deptcd=&dept=dept&lang=KOR\"\n",
    "        params = {\"colcd\": col[\"col\"], \"year\": year, \"term\": term}\n",
    "        response_text = requests.get(url, params=params).text\n",
    "        bs = BeautifulSoup(response_text, \"html.parser\")\n",
    "        script_lines = bs.select_one(\"script\").text.replace(\"\\r\", \"\").replace(\"\\t\", \"\").split(\"\\n\")\n",
    "        value_filter = re.compile('el.value =')\n",
    "        text_filter = re.compile('el.text =')\n",
    "        value_filtered_lines = list(filter(value_filter.search, script_lines))\n",
    "        text_filtered_lines = list(filter(text_filter.search, script_lines))\n",
    "        values = [line.split(\"\\\"\")[1] for line in value_filtered_lines]\n",
    "        texts = [line.split(\"\\\"\")[1] for line in text_filtered_lines]\n",
    "        depts = [{\"col_name\": col[\"col_name\"], \"col\": col[\"col\"], \"dept_name\": texts[i], \"dept\": value}\n",
    "                 for i, value in enumerate(values)]\n",
    "        return depts\n",
    "    \n",
    "    def _preproc(text):\n",
    "        return text.replace(\"\\t\", \"\").replace(\"\\n\", \"\").replace(\"\\xa0\", \"\").replace(\"\\r\", \" \")\n",
    "    \n",
    "    def _get_lecture_info(row):\n",
    "        divide = _preproc(row.select_one(\"td:nth-of-type(3)\").text)\n",
    "        title = _preproc(row.select_one(\"td:nth-of-type(5)\").text)\n",
    "        professor = _preproc(row.select_one(\"td:nth-of-type(6)\").text)\n",
    "        credit = _preproc(row.select_one(\"td:nth-of-type(7)\").text)\n",
    "        time_ = _preproc(row.select_one(\"td:nth-of-type(8)\").text)\n",
    "        lecture_info = {\"courseDivide\": divide, \"courseTitle\": title, \"courseProfessor\": professor,\n",
    "                        \"courseCredit\": credit, \"courseTime\": time_}\n",
    "        return lecture_info\n",
    "    \n",
    "    def get_lectures(dept):\n",
    "        url = \"http://sugang.korea.ac.kr/lecture/LecMajorSub.jsp?lang=KOR\"\n",
    "        params = {'yy': year, 'tm': term, 'sCampus': '1', 'col': dept[\"col\"], 'dept': dept[\"dept\"]}\n",
    "        response_text = requests.post(url, data=params).text\n",
    "        bs = BeautifulSoup(response_text, \"html.parser\")\n",
    "        try:\n",
    "            rows = bs.select_one(\"tbody\").select(\"tr\")\n",
    "            lecture_infos = [_get_lecture_info(row) for row in rows]\n",
    "            lectures = [{\"courseUniversity\": \"학부\", \"courseYear\": year, \"courseTerm\": term,\n",
    "                         \"courseArea\": \"전공\", \"courseMajor\": dept[\"dept_name\"], **lecture_info} \n",
    "                        for lecture_info in lecture_infos]\n",
    "        except:\n",
    "            lectures = []\n",
    "        return lectures\n",
    "\n",
    "    cols = get_cols()\n",
    "    depts = sum([get_depts(col) for col in cols], [])\n",
    "    lectures = sum([get_lectures(dept) for dept in depts], [])\n",
    "    \n",
    "    return lectures"
   ]
  },
  {
   "cell_type": "markdown",
   "metadata": {},
   "source": [
    "# 대학원 강의 리스트"
   ]
  },
  {
   "cell_type": "code",
   "execution_count": 4,
   "metadata": {
    "collapsed": true
   },
   "outputs": [],
   "source": [
    "def get_grad_lectures(year=\"2018\", term=\"1R\"):\n",
    "\n",
    "    def get_depts():\n",
    "        url = \"http://sugang.korea.ac.kr/lecture/LecDeptPopup.jsp?frm=frm_gms&colcd=0309&deptcd=&dept=dept&lang=KOR\"\n",
    "        response_text = requests.get(url).text\n",
    "        bs = BeautifulSoup(response_text, \"html.parser\")\n",
    "        script_lines = bs.select_one(\"script\").text.replace(\"\\r\", \"\").replace(\"\\t\", \"\").split(\"\\n\")\n",
    "        value_filter = re.compile('el.value =')\n",
    "        text_filter = re.compile('el.text =')\n",
    "        value_filtered_lines = list(filter(value_filter.search, script_lines))\n",
    "        text_filtered_lines = list(filter(text_filter.search, script_lines))\n",
    "        values = [line.split(\"\\\"\")[1] for line in value_filtered_lines]\n",
    "        texts = [line.split(\"\\\"\")[1] for line in text_filtered_lines]\n",
    "        depts = [{\"col_name\": \"일반대학원\", \"col\": \"0309\", \"dept_name\": texts[i], \"dept\": value}\n",
    "                 for i, value in enumerate(values)]\n",
    "        return depts\n",
    "\n",
    "    def _preproc(text):\n",
    "        return text.replace(\"\\t\", \"\").replace(\"\\n\", \"\").replace(\"\\xa0\", \"\").replace(\"\\r\", \" \")\n",
    "    \n",
    "    def _get_lecture_info(row):\n",
    "        divide = _preproc(row.select_one(\"td:nth-of-type(3)\").text)\n",
    "        title = _preproc(row.select_one(\"td:nth-of-type(5)\").text)\n",
    "        professor = _preproc(row.select_one(\"td:nth-of-type(6)\").text)\n",
    "        credit = _preproc(row.select_one(\"td:nth-of-type(7)\").text)\n",
    "        time_ = _preproc(row.select_one(\"td:nth-of-type(8)\").text)\n",
    "        lecture_info = {\"courseDivide\": divide, \"courseTitle\": title, \"courseProfessor\": professor,\n",
    "                        \"courseCredit\": credit, \"courseTime\": time_}\n",
    "        return lecture_info\n",
    "    \n",
    "    def get_lectures(dept):\n",
    "        url = \"http://sugang.korea.ac.kr/lecture/LecGradMajorSub.jsp?lang=KOR\"\n",
    "        params = {'yy': year, 'tm': term, 'col': dept[\"col\"], 'dept': dept[\"dept\"]}\n",
    "        response_text = requests.post(url, data=params).text\n",
    "        bs = BeautifulSoup(response_text, \"html.parser\")\n",
    "        try:\n",
    "            rows = bs.select_one(\"tbody\").select(\"tr\")\n",
    "            lecture_infos = [_get_lecture_info(row) for row in rows]\n",
    "            lectures = [{\"courseUniversity\": \"대학원\", \"courseYear\": year, \"courseTerm\": term,\n",
    "                         \"courseArea\": \"일반대학원\", \"courseMajor\": dept[\"dept_name\"], **lecture_info} \n",
    "                        for lecture_info in lecture_infos]\n",
    "        except:\n",
    "            lectures = []\n",
    "        return lectures\n",
    "\n",
    "    depts = get_depts()\n",
    "    lectures = sum([get_lectures(dept) for dept in depts], [])\n",
    "\n",
    "    return lectures"
   ]
  },
  {
   "cell_type": "markdown",
   "metadata": {},
   "source": [
    "---"
   ]
  },
  {
   "cell_type": "code",
   "execution_count": 5,
   "metadata": {
    "collapsed": true
   },
   "outputs": [],
   "source": [
    "years = [\"2017\", \"2018\"]\n",
    "terms = [\"1R\", \"2R\"]\n",
    "argss = [(year, term) for year in years for term in terms]\n",
    "argss.remove((\"2017\", \"1R\"))\n",
    "argss.remove((\"2018\", \"2R\"))"
   ]
  },
  {
   "cell_type": "code",
   "execution_count": 6,
   "metadata": {},
   "outputs": [
    {
     "name": "stdout",
     "output_type": "stream",
     "text": [
      "2756\n"
     ]
    }
   ],
   "source": [
    "cults = sum([get_cult_lectures(*args) for args in argss], [])\n",
    "print(len(cults))"
   ]
  },
  {
   "cell_type": "code",
   "execution_count": 7,
   "metadata": {},
   "outputs": [
    {
     "name": "stdout",
     "output_type": "stream",
     "text": [
      "3346\n"
     ]
    }
   ],
   "source": [
    "univs = sum([get_univ_lectures(*args) for args in argss], [])\n",
    "print(len(univs))"
   ]
  },
  {
   "cell_type": "code",
   "execution_count": 8,
   "metadata": {},
   "outputs": [
    {
     "name": "stdout",
     "output_type": "stream",
     "text": [
      "3980\n"
     ]
    }
   ],
   "source": [
    "grads = sum([get_grad_lectures(*args) for args in argss], [])\n",
    "print(len(grads))"
   ]
  },
  {
   "cell_type": "code",
   "execution_count": 12,
   "metadata": {},
   "outputs": [
    {
     "name": "stdout",
     "output_type": "stream",
     "text": [
      "10082\n"
     ]
    }
   ],
   "source": [
    "total_lectures = cults + univs + grads\n",
    "print(len(total_lectures))"
   ]
  },
  {
   "cell_type": "code",
   "execution_count": 42,
   "metadata": {
    "collapsed": true
   },
   "outputs": [],
   "source": [
    "def convert_room2time(text, time_text=\"\"):\n",
    "    \n",
    "    proc = re.compile(\"[월화수목금]\\(\\d-{0,1}\\d{0,1}\\)\")\n",
    "    time_table = {weekday: [] for weekday in \"월화수목금\"}\n",
    "    raw_times = proc.findall(text)\n",
    "    \n",
    "    for raw_time in raw_times:\n",
    "        week_proc = re.compile(\"[월화수목금]\")\n",
    "        week = week_proc.search(raw_time).group()\n",
    "        time_proc = re.compile(\"\\d\")\n",
    "        times = time_proc.findall(raw_time)\n",
    "        for time in times:\n",
    "            time_table[week].append(time)\n",
    "    \n",
    "    for key in time_table:\n",
    "        day = time_table[key]\n",
    "        if len(day) > 0:\n",
    "            day = sorted(set(day))\n",
    "            time_text += \"%s:\" % key\n",
    "            for time in day:\n",
    "                time_text += \"[%s]\" % time\n",
    "        \n",
    "    return time_text"
   ]
  },
  {
   "cell_type": "code",
   "execution_count": 43,
   "metadata": {
    "collapsed": true
   },
   "outputs": [],
   "source": [
    "columns = [\"courseID\",\"courseUniversity\",\"courseYear\",\"courseTerm\",\n",
    "           \"courseArea\",\"courseMajor\",\"courseGrade\",\"courseTitle\",\n",
    "           \"courseCredit\",\"courseDivide\",\"coursePersonnel\",\"courseProfessor\",\n",
    "           \"courseTime\",\"courseRoom\"]\n",
    "df = pd.DataFrame(total_lectures, columns=columns)\n",
    "\n",
    "df[\"courseRoom\"] = df[\"courseTime\"]\n",
    "df[\"courseTime\"] = [convert_room2time(text) for text in df[\"courseRoom\"]]\n",
    "\n",
    "text_proc = re.compile(\"\\S+\")\n",
    "df[\"courseTitle\"] = [\" \".join(text_proc.findall(text)) for text in df[\"courseTitle\"]]\n",
    "df[\"courseRoom\"] = [\" \".join(text_proc.findall(text)) for text in df[\"courseRoom\"]]\n",
    "\n",
    "credit_proc = re.compile(\"\\d+\")\n",
    "df[\"courseCredit\"] = [int(credit_proc.search(s).group()) for s in df[\"courseCredit\"]]\n",
    "\n",
    "df[\"coursePersonnel\"] = [100 for _ in range(len(df))]\n",
    "\n",
    "termMap = {\"1R\": \"1학기\", \"1S\": \"여름학기\", \"2R\": \"2학기\", \"2W\": \"겨울학기\"}\n",
    "df[\"courseTerm\"] = [termMap[term] for term in df[\"courseTerm\"]]\n",
    "\n",
    "df = df.fillna(\"\")\n",
    "df.to_csv(\"COURSE.csv\", index=False, header=False, encoding=\"utf-8\")"
   ]
  }
 ],
 "metadata": {
  "kernelspec": {
   "display_name": "Python 3",
   "language": "python",
   "name": "python3"
  },
  "language_info": {
   "codemirror_mode": {
    "name": "ipython",
    "version": 3
   },
   "file_extension": ".py",
   "mimetype": "text/x-python",
   "name": "python",
   "nbconvert_exporter": "python",
   "pygments_lexer": "ipython3",
   "version": "3.6.3"
  }
 },
 "nbformat": 4,
 "nbformat_minor": 2
}
