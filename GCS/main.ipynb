{
 "cells": [
  {
   "cell_type": "markdown",
   "metadata": {},
   "source": [
    "## Usage Example"
   ]
  },
  {
   "cell_type": "code",
   "execution_count": 1,
   "metadata": {},
   "outputs": [],
   "source": [
    "from data_handler import DH"
   ]
  },
  {
   "cell_type": "code",
   "execution_count": 3,
   "metadata": {},
   "outputs": [
    {
     "name": "stdout",
     "output_type": "stream",
     "text": [
      "[DH] Loading complete\n",
      "[Data_Handler] Making train & test data ...\n",
      " 100.00%\n"
     ]
    },
    {
     "data": {
      "text/plain": [
       "<data_handler.DH at 0x1084cfac8>"
      ]
     },
     "execution_count": 3,
     "metadata": {},
     "output_type": "execute_result"
    }
   ],
   "source": [
    "dh = DH('df')\n",
    "dh.set_data(n_train=4) "
   ]
  },
  {
   "cell_type": "code",
   "execution_count": 4,
   "metadata": {},
   "outputs": [
    {
     "name": "stdout",
     "output_type": "stream",
     "text": [
      "2016-08-05    66\n",
      "2016-08-06    52\n",
      "2016-08-07    42\n",
      "2016-08-08    33\n",
      "Name: 40659, dtype: int64\n",
      "2016-08-09    20\n",
      "Name: 40659, dtype: int64\n"
     ]
    }
   ],
   "source": [
    "tr, te = dh.i2d[9934]\n",
    "print(tr)\n",
    "print(te)"
   ]
  },
  {
   "cell_type": "markdown",
   "metadata": {},
   "source": [
    "### 컨텐츠 신규 발생 시점 == 첫 뷰카운트 발생 시점\n",
    "\n",
    "### 기간 안에 한번도 안본 컨텐츠\n",
    "\n",
    "12566 개\n",
    "\n",
    "### 개별 컨텐츠 수\n",
    "\n",
    "- 영화: 12603개\n",
    "- 드라마(무료): 19942개\n",
    "- 드라마(유료): 14103개\n",
    "- 분석가능 유효 컨텐츠: 35334개\n",
    "\n",
    "### 영화이자 드라마(유료)이기도 한 컨텐츠\n",
    "\n",
    "4개 (1142 12780 14794 35144)\n",
    "\n",
    "### 영화이자 드라마(무료)이기도 한 컨텐츠\n",
    "\n",
    "0개\n",
    "\n",
    "### 드라마(유료)이자 드라마(무료)이기도 한 컨텐츠\n",
    "\n",
    "10770개"
   ]
  }
 ],
 "metadata": {
  "kernelspec": {
   "display_name": "Python 3",
   "language": "python",
   "name": "python3"
  },
  "language_info": {
   "codemirror_mode": {
    "name": "ipython",
    "version": 3
   },
   "file_extension": ".py",
   "mimetype": "text/x-python",
   "name": "python",
   "nbconvert_exporter": "python",
   "pygments_lexer": "ipython3",
   "version": "3.6.4"
  }
 },
 "nbformat": 4,
 "nbformat_minor": 2
}
