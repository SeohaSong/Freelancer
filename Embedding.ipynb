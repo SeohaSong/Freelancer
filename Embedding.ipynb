{
 "cells": [
  {
   "cell_type": "code",
   "execution_count": 51,
   "metadata": {},
   "outputs": [],
   "source": [
    "import pandas as pd\n",
    "import os\n",
    "import numpy as np\n",
    "import re\n",
    "import sys\n",
    "from matplotlib import pyplot as plt\n",
    "import time\n",
    "\n",
    "from gensim.models import Word2Vec"
   ]
  },
  {
   "cell_type": "code",
   "execution_count": 28,
   "metadata": {},
   "outputs": [],
   "source": [
    "def load_data_df():\n",
    "\n",
    "    def preprocess(i, text):\n",
    "        text = re.sub(\"<br />\", \"\", text)\n",
    "        text = re.sub(\"[^A-Za-z0-9 .\\-']\", \"\", text)\n",
    "        text = re.sub(\"\\.\", \". \", text)\n",
    "        text = re.sub(\"\\s+\", \" \", text)\n",
    "        percent = i/data_n*100\n",
    "        if i%100 == 0:\n",
    "            sys.stdout.write(\"\\r% 5.2f%%\"%(percent))\n",
    "        return text.lower()\n",
    "\n",
    "    print(\"[load_data_df] Loading and preprocessing data...\")\n",
    "    \n",
    "    df = pd.read_csv(\"./data/master.csv\",\n",
    "                     encoding=\"ISO8859\",\n",
    "                     index_col=0)\n",
    "    df = df.drop([\"file\"], axis=1)\n",
    "    \n",
    "    data_n = len(df)\n",
    "    review_se = df[\"review\"]\n",
    "    reviews = pd.Series(\n",
    "        [preprocess(i, review)\n",
    "         for i, review in enumerate(review_se)]\n",
    "    )\n",
    "    df[\"review\"] = reviews\n",
    "    sys.stdout.write(\"\\r% 5.2f%%\"%(100))\n",
    "    \n",
    "    return df\n",
    "\n",
    "\n",
    "def get_toy_df(df, div_n, seed):\n",
    "\n",
    "    np.random.seed(seed)\n",
    "    \n",
    "    tr_df = df[df[\"type\"] == \"train\"]\n",
    "    te_df = df[df[\"type\"] == \"test\"]\n",
    "\n",
    "    tr_n, te_n = len(tr_df)//div_n, len(te_df)//div_n\n",
    "    tr_idxs = np.random.choice(tr_df.index, tr_n, replace=False)\n",
    "    te_idxs = np.random.choice(te_df.index, te_n, replace=False)\n",
    "    \n",
    "    tr_df = tr_df.loc[tr_idxs]\n",
    "    te_df = te_df.loc[te_idxs]\n",
    "    df = pd.concat([te_df, tr_df])\n",
    "    \n",
    "    return df\n",
    "\n",
    "\n",
    "def _plot_word22d(p, model):\n",
    "    \n",
    "    words = model.wv.index2word\n",
    "    pts = np.array([model.wv[word] for word in words])\n",
    "    T_pts = pts.T\n",
    "\n",
    "    p.scatter(T_pts[0], T_pts[1])\n",
    "    for i, word in enumerate(words):\n",
    "        p.annotate(word, pts[i])\n",
    "        \n",
    "    origin = [0, 0]\n",
    "    p.scatter(origin[0], origin[1], s=100)\n",
    "    p.annotate(\"ORIGIN\", origin, fontsize=14)\n",
    "    \n",
    "    mean_pt = pts.mean(axis=0)\n",
    "    p.scatter(mean_pt[0], mean_pt[1], s=100)\n",
    "    p.annotate(\"MEAN\", mean_pt, fontsize=14)\n",
    "    \n",
    "    if \"_\" in words:\n",
    "        kernel = model.wv[\"_\"]\n",
    "        p.scatter(kernel[0], kernel[1], c=\"red\", s=100)\n",
    "        p.annotate(\"UNDERSCORE\", kernel, fontsize=14)\n",
    "        \n",
    "        \n",
    "def report_underscore(model1, model2):\n",
    "\n",
    "    plt.figure(figsize=[12, 6])\n",
    "\n",
    "    p1 = plt.axes([0, 0, 0.48, 1])\n",
    "    p2 = plt.axes([0.54, 0, 0.48, 1])\n",
    "    p2.get_yaxis().set_visible(False)\n",
    "\n",
    "    _plot_word22d(p1, model1)\n",
    "    _plot_word22d(p2, model2)\n",
    "\n",
    "    plt.show()"
   ]
  },
  {
   "cell_type": "code",
   "execution_count": 3,
   "metadata": {},
   "outputs": [
    {
     "name": "stdout",
     "output_type": "stream",
     "text": [
      "[load_data_df] Loading and preprocessing data...\n",
      " 100.00%"
     ]
    }
   ],
   "source": [
    "df = load_data_df()"
   ]
  },
  {
   "cell_type": "code",
   "execution_count": 55,
   "metadata": {},
   "outputs": [],
   "source": [
    "div_n = 1\n",
    "\n",
    "size = 2\n",
    "window = 5\n",
    "min_count = 1\n",
    "workers = os.cpu_count()\n",
    "\n",
    "toy_df = get_toy_df(df, div_n, 50554145)\n",
    "sent_se = toy_df[\"review\"]"
   ]
  },
  {
   "cell_type": "code",
   "execution_count": 56,
   "metadata": {},
   "outputs": [
    {
     "data": {
      "text/plain": [
       "60.431156158447266"
      ]
     },
     "execution_count": 56,
     "metadata": {},
     "output_type": "execute_result"
    }
   ],
   "source": [
    "start = time.time()\n",
    "\n",
    "sents = [sent.split() for sent in sent_se]\n",
    "model1 = Word2Vec(\n",
    "    sents, size=2, window=window, min_count=min_count, workers=workers\n",
    ")\n",
    "\n",
    "time.time()-start"
   ]
  },
  {
   "cell_type": "code",
   "execution_count": 57,
   "metadata": {},
   "outputs": [
    {
     "data": {
      "text/plain": [
       "82.98703861236572"
      ]
     },
     "execution_count": 57,
     "metadata": {},
     "output_type": "execute_result"
    }
   ],
   "source": [
    "start = time.time()\n",
    "\n",
    "sents = [(\"_ \"+\" _ \".join(sent.split())+\" _\").split()\n",
    "         for sent in sent_se]\n",
    "model2 = Word2Vec(\n",
    "    sents, size=2, window=window, min_count=min_count, workers=workers\n",
    ")\n",
    "\n",
    "time.time()-start"
   ]
  },
  {
   "cell_type": "code",
   "execution_count": 60,
   "metadata": {},
   "outputs": [
    {
     "name": "stdout",
     "output_type": "stream",
     "text": [
      "331511\n",
      "331512\n"
     ]
    }
   ],
   "source": [
    "if div_n >= 1000:\n",
    "    report_underscore(model1, model2)\n",
    "    \n",
    "print(len(model1.wv.index2word))\n",
    "print(len(model2.wv.index2word))\n",
    "\n",
    "model1.save(\"data/normal_wv\")\n",
    "model2.save(\"data/underscore_wv\")"
   ]
  },
  {
   "cell_type": "code",
   "execution_count": null,
   "metadata": {},
   "outputs": [],
   "source": []
  }
 ],
 "metadata": {
  "kernelspec": {
   "display_name": "Python 3",
   "language": "python",
   "name": "python3"
  },
  "language_info": {
   "codemirror_mode": {
    "name": "ipython",
    "version": 3
   },
   "file_extension": ".py",
   "mimetype": "text/x-python",
   "name": "python",
   "nbconvert_exporter": "python",
   "pygments_lexer": "ipython3",
   "version": "3.6.4"
  }
 },
 "nbformat": 4,
 "nbformat_minor": 2
}
