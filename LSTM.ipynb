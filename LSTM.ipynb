{
 "cells": [
  {
   "cell_type": "code",
   "execution_count": 172,
   "metadata": {},
   "outputs": [],
   "source": [
    "import pandas as pd\n",
    "import numpy as np\n",
    "import sys\n",
    "from matplotlib import pyplot as plt\n",
    "\n",
    "import tensorflow as tf\n",
    "from gensim.models import Word2Vec"
   ]
  },
  {
   "cell_type": "code",
   "execution_count": 173,
   "metadata": {},
   "outputs": [],
   "source": [
    "class TF_Agent():\n",
    "    \n",
    "    def __init__(self, keys):\n",
    "        self._initialize(keys)\n",
    "        \n",
    "    def _initialize(self, keys):\n",
    "        np.random.seed(1050554145)\n",
    "        self.log_df = pd.DataFrame({key: [] for key in keys})\n",
    "        self.keys = self.log_df.columns\n",
    "        self.interesting = \",\".join(self.log_df.columns)\n",
    "        self.iter_count = 0     \n",
    "\n",
    "    def set_batch(self, n, feed_dict):\n",
    "\n",
    "        keys = list(feed_dict.keys())\n",
    "        \n",
    "        data_n = len(feed_dict[keys[0]])\n",
    "        idxs = np.random.choice(range(data_n), n, replace=False)\n",
    "        \n",
    "        feed_dict = {key: feed_dict[key][idxs] for key in keys}\n",
    "        self.feed_dict = feed_dict\n",
    "    \n",
    "    def run_session(self, sess):\n",
    "        \n",
    "        values = sess.run(eval(self.interesting),\n",
    "                          feed_dict=self.feed_dict)\n",
    "        \n",
    "        self.recent_log = pd.Series(\n",
    "            values,\n",
    "            index=self.keys,\n",
    "            name=self.iter_count\n",
    "        )\n",
    "        self.log_df = self.log_df.append([self.recent_log])\n",
    "        \n",
    "        self.iter_count += 1\n",
    "        \n",
    "    def trace(self, args):\n",
    "        \n",
    "        one_line_text=\"\"\n",
    "        iter_count = self.iter_count\n",
    "        \n",
    "        one_line_text = \"Iter: % 6d\"%iter_count\n",
    "        for arg in args:\n",
    "            one_line_text += \" | %s: %0.9f\"%(\n",
    "                arg, self.recent_log[arg]\n",
    "            )\n",
    "\n",
    "        sys.stdout.write(\"\\r%s\"%one_line_text)"
   ]
  },
  {
   "cell_type": "code",
   "execution_count": 174,
   "metadata": {},
   "outputs": [],
   "source": [
    "underscore_train_X = pd.read_pickle(\"./data/underscore_tr_X\")\n",
    "underscore_test_X = pd.read_pickle(\"./data/underscore_te_X\")\n",
    "\n",
    "train_y = pd.read_pickle(\"./data/tr_y\")\n",
    "test_y = pd.read_pickle(\"./data/te_y\")"
   ]
  },
  {
   "cell_type": "code",
   "execution_count": 161,
   "metadata": {},
   "outputs": [
    {
     "name": "stdout",
     "output_type": "stream",
     "text": [
      "Iter:   2048 | loss: 0.132466853 | acc: 0.968750000\n",
      "test accuracy: 0.78396\n",
      "train accuracy: 0.92928\n"
     ]
    }
   ],
   "source": [
    "rnn_size, batch_n, iter_n = 128, 128, 2048\n",
    "train_X = underscore_train_X\n",
    "test_X = underscore_test_X\n",
    "squence_size = 160\n",
    "\n",
    "tf.reset_default_graph()\n",
    "g = tf.get_default_graph()\n",
    "tf.set_random_seed(1050554145)\n",
    "\n",
    "X = tf.placeholder(dtype=tf.float32,\n",
    "                   shape=[None, squence_size, 128])\n",
    "y = tf.placeholder(dtype=tf.float32,\n",
    "                   shape=[None, 2])\n",
    "\n",
    "lstm_cell = tf.nn.rnn_cell.BasicLSTMCell(num_units=rnn_size)\n",
    "outputs, state = tf.nn.dynamic_rnn(lstm_cell, X, dtype=tf.float32)\n",
    "logits = state[1]\n",
    "\n",
    "weight = tf.Variable(tf.truncated_normal([rnn_size, 2]))\n",
    "bias = tf.Variable(tf.truncated_normal([2]))\n",
    "\n",
    "fc = tf.matmul(logits, weight) + bias\n",
    "acc = tf.reduce_mean(\n",
    "    tf.cast(\n",
    "        tf.equal(tf.argmax(fc, axis=1), tf.argmax(y, axis=1)),\n",
    "        dtype=tf.float32\n",
    "    )\n",
    ")\n",
    "loss = tf.losses.softmax_cross_entropy(y, fc)\n",
    "learn = tf.train.AdamOptimizer().minimize(loss)\n",
    "\n",
    "initializer = tf.global_variables_initializer()\n",
    "\n",
    "\n",
    "sess = tf.Session(graph=g)\n",
    "sess.run(initializer)\n",
    "\n",
    "tfa = TF_Agent([\"loss\", \"acc\", \"learn\"])\n",
    "for _ in range(iter_n):\n",
    "    tfa.set_batch(batch_n, {X: train_X, y: train_y})\n",
    "    tfa.run_session(sess)\n",
    "    tfa.trace([\"loss\", \"acc\"])\n",
    "\n",
    "print()\n",
    "pred = sess.run(acc, feed_dict={X: test_X, y: test_y})\n",
    "print(\"test accuracy:\", pred)\n",
    "pred = sess.run(acc, feed_dict={X: train_X, y: train_y})\n",
    "print(\"train accuracy:\", pred)\n",
    "\n",
    "saver = tf.train.Saver()\n",
    "saver.save(sess, \"./sess.ckpt\")\n",
    "\n",
    "sess.close()"
   ]
  },
  {
   "cell_type": "code",
   "execution_count": 256,
   "metadata": {},
   "outputs": [
    {
     "name": "stdout",
     "output_type": "stream",
     "text": [
      "INFO:tensorflow:Restoring parameters from ./sess.ckpt\n",
      "attack 007 |"
     ]
    },
    {
     "ename": "KeyboardInterrupt",
     "evalue": "",
     "output_type": "error",
     "traceback": [
      "\u001b[1;31m---------------------------------------------------------------------------\u001b[0m",
      "\u001b[1;31mKeyboardInterrupt\u001b[0m                         Traceback (most recent call last)",
      "\u001b[1;32m<ipython-input-256-3c1e3b5d0129>\u001b[0m in \u001b[0;36m<module>\u001b[1;34m()\u001b[0m\n\u001b[0;32m     41\u001b[0m \u001b[1;33m\u001b[0m\u001b[0m\n\u001b[0;32m     42\u001b[0m     victims = np.array([attack(i, sentence) \n\u001b[1;32m---> 43\u001b[1;33m                         for i, sentence in enumerate(train_X)])\n\u001b[0m\u001b[0;32m     44\u001b[0m \u001b[1;33m\u001b[0m\u001b[0m\n\u001b[0;32m     45\u001b[0m     \u001b[1;32mfor\u001b[0m \u001b[0mi\u001b[0m \u001b[1;32min\u001b[0m \u001b[0mrange\u001b[0m\u001b[1;33m(\u001b[0m\u001b[0miter_n\u001b[0m\u001b[1;33m)\u001b[0m\u001b[1;33m:\u001b[0m\u001b[1;33m\u001b[0m\u001b[0m\n",
      "\u001b[1;32m<ipython-input-256-3c1e3b5d0129>\u001b[0m in \u001b[0;36m<listcomp>\u001b[1;34m(.0)\u001b[0m\n\u001b[0;32m     41\u001b[0m \u001b[1;33m\u001b[0m\u001b[0m\n\u001b[0;32m     42\u001b[0m     victims = np.array([attack(i, sentence) \n\u001b[1;32m---> 43\u001b[1;33m                         for i, sentence in enumerate(train_X)])\n\u001b[0m\u001b[0;32m     44\u001b[0m \u001b[1;33m\u001b[0m\u001b[0m\n\u001b[0;32m     45\u001b[0m     \u001b[1;32mfor\u001b[0m \u001b[0mi\u001b[0m \u001b[1;32min\u001b[0m \u001b[0mrange\u001b[0m\u001b[1;33m(\u001b[0m\u001b[0miter_n\u001b[0m\u001b[1;33m)\u001b[0m\u001b[1;33m:\u001b[0m\u001b[1;33m\u001b[0m\u001b[0m\n",
      "\u001b[1;32m<ipython-input-256-3c1e3b5d0129>\u001b[0m in \u001b[0;36mattack\u001b[1;34m(i, sentence)\u001b[0m\n\u001b[0;32m     11\u001b[0m         losses = np.array([sess.run(\n\u001b[0;32m     12\u001b[0m             \u001b[0mloss\u001b[0m\u001b[1;33m,\u001b[0m \u001b[0mfeed_dict\u001b[0m\u001b[1;33m=\u001b[0m\u001b[1;33m{\u001b[0m\u001b[0mX\u001b[0m\u001b[1;33m:\u001b[0m \u001b[1;33m[\u001b[0m\u001b[0mvictim\u001b[0m\u001b[1;33m]\u001b[0m\u001b[1;33m,\u001b[0m \u001b[0my\u001b[0m\u001b[1;33m:\u001b[0m \u001b[1;33m[\u001b[0m\u001b[0mtrain_y\u001b[0m\u001b[1;33m[\u001b[0m\u001b[0mi\u001b[0m\u001b[1;33m]\u001b[0m\u001b[1;33m]\u001b[0m\u001b[1;33m}\u001b[0m\u001b[1;33m\u001b[0m\u001b[0m\n\u001b[1;32m---> 13\u001b[1;33m         ) for i, victim in enumerate(victims)])\n\u001b[0m\u001b[0;32m     14\u001b[0m         \u001b[0midx\u001b[0m \u001b[1;33m=\u001b[0m \u001b[1;33m(\u001b[0m\u001b[1;33m-\u001b[0m\u001b[0mnp\u001b[0m\u001b[1;33m.\u001b[0m\u001b[0mabs\u001b[0m\u001b[1;33m(\u001b[0m\u001b[0mlosses\u001b[0m\u001b[1;33m-\u001b[0m\u001b[0mrecent_loss\u001b[0m\u001b[1;33m)\u001b[0m\u001b[1;33m)\u001b[0m\u001b[1;33m.\u001b[0m\u001b[0margmax\u001b[0m\u001b[1;33m(\u001b[0m\u001b[1;33m)\u001b[0m\u001b[1;33m\u001b[0m\u001b[0m\n\u001b[0;32m     15\u001b[0m         \u001b[0mvictim\u001b[0m \u001b[1;33m=\u001b[0m \u001b[0mvictims\u001b[0m\u001b[1;33m[\u001b[0m\u001b[0midx\u001b[0m\u001b[1;33m]\u001b[0m\u001b[1;33m\u001b[0m\u001b[0m\n",
      "\u001b[1;32m<ipython-input-256-3c1e3b5d0129>\u001b[0m in \u001b[0;36m<listcomp>\u001b[1;34m(.0)\u001b[0m\n\u001b[0;32m     11\u001b[0m         losses = np.array([sess.run(\n\u001b[0;32m     12\u001b[0m             \u001b[0mloss\u001b[0m\u001b[1;33m,\u001b[0m \u001b[0mfeed_dict\u001b[0m\u001b[1;33m=\u001b[0m\u001b[1;33m{\u001b[0m\u001b[0mX\u001b[0m\u001b[1;33m:\u001b[0m \u001b[1;33m[\u001b[0m\u001b[0mvictim\u001b[0m\u001b[1;33m]\u001b[0m\u001b[1;33m,\u001b[0m \u001b[0my\u001b[0m\u001b[1;33m:\u001b[0m \u001b[1;33m[\u001b[0m\u001b[0mtrain_y\u001b[0m\u001b[1;33m[\u001b[0m\u001b[0mi\u001b[0m\u001b[1;33m]\u001b[0m\u001b[1;33m]\u001b[0m\u001b[1;33m}\u001b[0m\u001b[1;33m\u001b[0m\u001b[0m\n\u001b[1;32m---> 13\u001b[1;33m         ) for i, victim in enumerate(victims)])\n\u001b[0m\u001b[0;32m     14\u001b[0m         \u001b[0midx\u001b[0m \u001b[1;33m=\u001b[0m \u001b[1;33m(\u001b[0m\u001b[1;33m-\u001b[0m\u001b[0mnp\u001b[0m\u001b[1;33m.\u001b[0m\u001b[0mabs\u001b[0m\u001b[1;33m(\u001b[0m\u001b[0mlosses\u001b[0m\u001b[1;33m-\u001b[0m\u001b[0mrecent_loss\u001b[0m\u001b[1;33m)\u001b[0m\u001b[1;33m)\u001b[0m\u001b[1;33m.\u001b[0m\u001b[0margmax\u001b[0m\u001b[1;33m(\u001b[0m\u001b[1;33m)\u001b[0m\u001b[1;33m\u001b[0m\u001b[0m\n\u001b[0;32m     15\u001b[0m         \u001b[0mvictim\u001b[0m \u001b[1;33m=\u001b[0m \u001b[0mvictims\u001b[0m\u001b[1;33m[\u001b[0m\u001b[0midx\u001b[0m\u001b[1;33m]\u001b[0m\u001b[1;33m\u001b[0m\u001b[0m\n",
      "\u001b[1;32m~\\Anaconda3\\lib\\site-packages\\tensorflow\\python\\client\\session.py\u001b[0m in \u001b[0;36mrun\u001b[1;34m(self, fetches, feed_dict, options, run_metadata)\u001b[0m\n\u001b[0;32m    903\u001b[0m     \u001b[1;32mtry\u001b[0m\u001b[1;33m:\u001b[0m\u001b[1;33m\u001b[0m\u001b[0m\n\u001b[0;32m    904\u001b[0m       result = self._run(None, fetches, feed_dict, options_ptr,\n\u001b[1;32m--> 905\u001b[1;33m                          run_metadata_ptr)\n\u001b[0m\u001b[0;32m    906\u001b[0m       \u001b[1;32mif\u001b[0m \u001b[0mrun_metadata\u001b[0m\u001b[1;33m:\u001b[0m\u001b[1;33m\u001b[0m\u001b[0m\n\u001b[0;32m    907\u001b[0m         \u001b[0mproto_data\u001b[0m \u001b[1;33m=\u001b[0m \u001b[0mtf_session\u001b[0m\u001b[1;33m.\u001b[0m\u001b[0mTF_GetBuffer\u001b[0m\u001b[1;33m(\u001b[0m\u001b[0mrun_metadata_ptr\u001b[0m\u001b[1;33m)\u001b[0m\u001b[1;33m\u001b[0m\u001b[0m\n",
      "\u001b[1;32m~\\Anaconda3\\lib\\site-packages\\tensorflow\\python\\client\\session.py\u001b[0m in \u001b[0;36m_run\u001b[1;34m(self, handle, fetches, feed_dict, options, run_metadata)\u001b[0m\n\u001b[0;32m   1135\u001b[0m     \u001b[1;32mif\u001b[0m \u001b[0mfinal_fetches\u001b[0m \u001b[1;32mor\u001b[0m \u001b[0mfinal_targets\u001b[0m \u001b[1;32mor\u001b[0m \u001b[1;33m(\u001b[0m\u001b[0mhandle\u001b[0m \u001b[1;32mand\u001b[0m \u001b[0mfeed_dict_tensor\u001b[0m\u001b[1;33m)\u001b[0m\u001b[1;33m:\u001b[0m\u001b[1;33m\u001b[0m\u001b[0m\n\u001b[0;32m   1136\u001b[0m       results = self._do_run(handle, final_targets, final_fetches,\n\u001b[1;32m-> 1137\u001b[1;33m                              feed_dict_tensor, options, run_metadata)\n\u001b[0m\u001b[0;32m   1138\u001b[0m     \u001b[1;32melse\u001b[0m\u001b[1;33m:\u001b[0m\u001b[1;33m\u001b[0m\u001b[0m\n\u001b[0;32m   1139\u001b[0m       \u001b[0mresults\u001b[0m \u001b[1;33m=\u001b[0m \u001b[1;33m[\u001b[0m\u001b[1;33m]\u001b[0m\u001b[1;33m\u001b[0m\u001b[0m\n",
      "\u001b[1;32m~\\Anaconda3\\lib\\site-packages\\tensorflow\\python\\client\\session.py\u001b[0m in \u001b[0;36m_do_run\u001b[1;34m(self, handle, target_list, fetch_list, feed_dict, options, run_metadata)\u001b[0m\n\u001b[0;32m   1353\u001b[0m     \u001b[1;32mif\u001b[0m \u001b[0mhandle\u001b[0m \u001b[1;32mis\u001b[0m \u001b[1;32mNone\u001b[0m\u001b[1;33m:\u001b[0m\u001b[1;33m\u001b[0m\u001b[0m\n\u001b[0;32m   1354\u001b[0m       return self._do_call(_run_fn, self._session, feeds, fetches, targets,\n\u001b[1;32m-> 1355\u001b[1;33m                            options, run_metadata)\n\u001b[0m\u001b[0;32m   1356\u001b[0m     \u001b[1;32melse\u001b[0m\u001b[1;33m:\u001b[0m\u001b[1;33m\u001b[0m\u001b[0m\n\u001b[0;32m   1357\u001b[0m       \u001b[1;32mreturn\u001b[0m \u001b[0mself\u001b[0m\u001b[1;33m.\u001b[0m\u001b[0m_do_call\u001b[0m\u001b[1;33m(\u001b[0m\u001b[0m_prun_fn\u001b[0m\u001b[1;33m,\u001b[0m \u001b[0mself\u001b[0m\u001b[1;33m.\u001b[0m\u001b[0m_session\u001b[0m\u001b[1;33m,\u001b[0m \u001b[0mhandle\u001b[0m\u001b[1;33m,\u001b[0m \u001b[0mfeeds\u001b[0m\u001b[1;33m,\u001b[0m \u001b[0mfetches\u001b[0m\u001b[1;33m)\u001b[0m\u001b[1;33m\u001b[0m\u001b[0m\n",
      "\u001b[1;32m~\\Anaconda3\\lib\\site-packages\\tensorflow\\python\\client\\session.py\u001b[0m in \u001b[0;36m_do_call\u001b[1;34m(self, fn, *args)\u001b[0m\n\u001b[0;32m   1359\u001b[0m   \u001b[1;32mdef\u001b[0m \u001b[0m_do_call\u001b[0m\u001b[1;33m(\u001b[0m\u001b[0mself\u001b[0m\u001b[1;33m,\u001b[0m \u001b[0mfn\u001b[0m\u001b[1;33m,\u001b[0m \u001b[1;33m*\u001b[0m\u001b[0margs\u001b[0m\u001b[1;33m)\u001b[0m\u001b[1;33m:\u001b[0m\u001b[1;33m\u001b[0m\u001b[0m\n\u001b[0;32m   1360\u001b[0m     \u001b[1;32mtry\u001b[0m\u001b[1;33m:\u001b[0m\u001b[1;33m\u001b[0m\u001b[0m\n\u001b[1;32m-> 1361\u001b[1;33m       \u001b[1;32mreturn\u001b[0m \u001b[0mfn\u001b[0m\u001b[1;33m(\u001b[0m\u001b[1;33m*\u001b[0m\u001b[0margs\u001b[0m\u001b[1;33m)\u001b[0m\u001b[1;33m\u001b[0m\u001b[0m\n\u001b[0m\u001b[0;32m   1362\u001b[0m     \u001b[1;32mexcept\u001b[0m \u001b[0merrors\u001b[0m\u001b[1;33m.\u001b[0m\u001b[0mOpError\u001b[0m \u001b[1;32mas\u001b[0m \u001b[0me\u001b[0m\u001b[1;33m:\u001b[0m\u001b[1;33m\u001b[0m\u001b[0m\n\u001b[0;32m   1363\u001b[0m       \u001b[0mmessage\u001b[0m \u001b[1;33m=\u001b[0m \u001b[0mcompat\u001b[0m\u001b[1;33m.\u001b[0m\u001b[0mas_text\u001b[0m\u001b[1;33m(\u001b[0m\u001b[0me\u001b[0m\u001b[1;33m.\u001b[0m\u001b[0mmessage\u001b[0m\u001b[1;33m)\u001b[0m\u001b[1;33m\u001b[0m\u001b[0m\n",
      "\u001b[1;32m~\\Anaconda3\\lib\\site-packages\\tensorflow\\python\\client\\session.py\u001b[0m in \u001b[0;36m_run_fn\u001b[1;34m(session, feed_dict, fetch_list, target_list, options, run_metadata)\u001b[0m\n\u001b[0;32m   1338\u001b[0m         \u001b[1;32melse\u001b[0m\u001b[1;33m:\u001b[0m\u001b[1;33m\u001b[0m\u001b[0m\n\u001b[0;32m   1339\u001b[0m           return tf_session.TF_Run(session, options, feed_dict, fetch_list,\n\u001b[1;32m-> 1340\u001b[1;33m                                    target_list, status, run_metadata)\n\u001b[0m\u001b[0;32m   1341\u001b[0m \u001b[1;33m\u001b[0m\u001b[0m\n\u001b[0;32m   1342\u001b[0m     \u001b[1;32mdef\u001b[0m \u001b[0m_prun_fn\u001b[0m\u001b[1;33m(\u001b[0m\u001b[0msession\u001b[0m\u001b[1;33m,\u001b[0m \u001b[0mhandle\u001b[0m\u001b[1;33m,\u001b[0m \u001b[0mfeed_dict\u001b[0m\u001b[1;33m,\u001b[0m \u001b[0mfetch_list\u001b[0m\u001b[1;33m)\u001b[0m\u001b[1;33m:\u001b[0m\u001b[1;33m\u001b[0m\u001b[0m\n",
      "\u001b[1;31mKeyboardInterrupt\u001b[0m: "
     ]
    }
   ],
   "source": [
    "def attack(i, sentence):\n",
    "    \n",
    "    def get_victim(i):\n",
    "        victim = sentence.copy()\n",
    "        victim[i] = A\n",
    "        return victim\n",
    "    \n",
    "    if case == 1:\n",
    "        A = model.wv[\"_\"]\n",
    "        victims = [get_victim(i) for i in range(len(sentence))]\n",
    "        losses = np.array([sess.run(\n",
    "            loss, feed_dict={X: [victim], y: [train_y[i]]}\n",
    "        ) for i, victim in enumerate(victims)])\n",
    "        idx = (-np.abs(losses-recent_loss)).argmax()\n",
    "        victim = victims[idx]\n",
    "    elif case == 2:\n",
    "        victim = sentence.copy()\n",
    "        idx = np.random.choice(\n",
    "            np.where(underscore_train_X[20]\n",
    "                     .sum(axis=1)\n",
    "                     != 0)[0]            \n",
    "        )\n",
    "        victim[idx] = np.random.random(128)\n",
    "    \n",
    "    sys.stdout.write(\"\\rattack %03d |\"%i)\n",
    "    return victim\n",
    "\n",
    "\n",
    "seed = 3\n",
    "iter_n = 128\n",
    "\n",
    "for case in [1, 2]:\n",
    "\n",
    "    np.random.seed(seed)\n",
    "\n",
    "    sess = tf.Session()\n",
    "    saver.restore(sess, \"./sess.ckpt\")\n",
    "    \n",
    "    recent_loss = sess.run(loss, feed_dict={X: train_X, y: train_y})\n",
    "    model = Word2Vec.load(\"./data/underscore_model\")\n",
    "\n",
    "    victims = np.array([attack(i, sentence) \n",
    "                        for i, sentence in enumerate(train_X)])\n",
    "\n",
    "    for i in range(iter_n):\n",
    "        idxs = np.random.choice(len(train_X), batch_n, replace=False)\n",
    "        sess.run(learn, feed_dict={X: victims[idxs], y: train_y[idxs]})\n",
    "        sys.stdout.write(\"\\rAugmentation %03d |\"%i)\n",
    "\n",
    "    print()\n",
    "    pred = sess.run(acc, feed_dict={X: test_X, y: test_y})\n",
    "    print(\"test accuracy:\", pred)\n",
    "    pred = sess.run(acc, feed_dict={X: train_X, y: train_y})\n",
    "    print(\"train accuracy:\", pred)\n",
    "\n",
    "    sess.close()"
   ]
  },
  {
   "cell_type": "markdown",
   "metadata": {},
   "source": [
    "# Normal vs Underscore"
   ]
  },
  {
   "cell_type": "code",
   "execution_count": 26,
   "metadata": {},
   "outputs": [
    {
     "data": {
      "image/png": "[encoded data removed]",
      "text/plain": [
       "<matplotlib.figure.Figure at 0x2547c33e518>"
      ]
     },
     "metadata": {},
     "output_type": "display_data"
    },
    {
     "data": {
      "image/png": "[encoded data removed]",
      "text/plain": [
       "<matplotlib.figure.Figure at 0x2547e16dd68>"
      ]
     },
     "metadata": {},
     "output_type": "display_data"
    }
   ],
   "source": [
    "for case in cases:\n",
    "    log_df = tfadic[case].log_df\n",
    "    plt.plot(log_df[\"loss\"].tolist())\n",
    "    plt.plot(log_df[\"acc\"].tolist())\n",
    "    plt.legend([\"loss\", \"acc\"])\n",
    "    plt.show()"
   ]
  },
  {
   "cell_type": "code",
   "execution_count": null,
   "metadata": {},
   "outputs": [],
   "source": [
    "def remove_one_word(self, sentence):\n",
    "    \n",
    "    sess, X = self.sess, self.X\n",
    "    rescent_loss = self.rescent_loss\n",
    "\n",
    "    def attack(i):\n",
    "        victim = sentence.copy()\n",
    "        victim[i] = \"_\"\n",
    "        return victim\n",
    "    \n",
    "    victims = [attack(i) for i in range(len(sentence))]\n",
    "    losses = np.array([sess.run(loss, feed_dict={X: [v]}) for v in victims])\n",
    "    losses = -abs(losses-rescent_loss)\n",
    "    \n",
    "    return victims[losses.argmax()]    "
   ]
  },
  {
   "cell_type": "code",
   "execution_count": null,
   "metadata": {},
   "outputs": [],
   "source": []
  },
  {
   "cell_type": "code",
   "execution_count": null,
   "metadata": {},
   "outputs": [],
   "source": []
  },
  {
   "cell_type": "code",
   "execution_count": null,
   "metadata": {},
   "outputs": [],
   "source": []
  },
  {
   "cell_type": "code",
   "execution_count": null,
   "metadata": {},
   "outputs": [],
   "source": []
  },
  {
   "cell_type": "code",
   "execution_count": null,
   "metadata": {},
   "outputs": [],
   "source": []
  },
  {
   "cell_type": "code",
   "execution_count": null,
   "metadata": {},
   "outputs": [],
   "source": []
  },
  {
   "cell_type": "code",
   "execution_count": null,
   "metadata": {},
   "outputs": [],
   "source": []
  },
  {
   "cell_type": "code",
   "execution_count": null,
   "metadata": {},
   "outputs": [],
   "source": []
  },
  {
   "cell_type": "code",
   "execution_count": null,
   "metadata": {},
   "outputs": [],
   "source": []
  },
  {
   "cell_type": "code",
   "execution_count": null,
   "metadata": {},
   "outputs": [],
   "source": []
  },
  {
   "cell_type": "code",
   "execution_count": 106,
   "metadata": {},
   "outputs": [],
   "source": [
    "rnn_size = 128\n",
    "batch_n = 128\n",
    "iter_n = 4096\n",
    "cases = [\"normal\", \"underscore\"]\n",
    "tfadic = {case: TF_Agent([\"loss\", \"learn\", \"acc\"])\n",
    "          for case in cases}\n",
    "\n",
    "for case in cases:\n",
    "        \n",
    "    if case == \"normal\":\n",
    "        train_X = normal_trian_X\n",
    "        test_X = normal_test_X\n",
    "        squence_size = 80\n",
    "    elif case == \"underscore\":\n",
    "        train_X = underscore_trian_X\n",
    "        test_X = underscore_test_X\n",
    "        squence_size = 160\n",
    "    \n",
    "    tf.reset_default_graph()\n",
    "    g = tf.get_default_graph()\n",
    "    tf.set_random_seed(1050554145)\n",
    "\n",
    "    X = tf.placeholder(dtype=tf.float32,\n",
    "                       shape=[None, squence_size, 128])\n",
    "    y = tf.placeholder(dtype=tf.float32,\n",
    "                       shape=[None, 2])\n",
    "    \n",
    "    lstm_cell = tf.nn.rnn_cell.BasicLSTMCell(num_units=rnn_size)\n",
    "    outputs, state = tf.nn.dynamic_rnn(lstm_cell, X, dtype=tf.float32)\n",
    "    logits = state[1]\n",
    "\n",
    "    weight = tf.Variable(tf.truncated_normal([rnn_size, 2]))\n",
    "    bias = tf.Variable(tf.truncated_normal([2]))\n",
    "\n",
    "    fc = tf.matmul(logits, weight) + bias\n",
    "    acc = tf.reduce_mean(\n",
    "        tf.cast(\n",
    "            tf.equal(tf.argmax(fc, axis=1), tf.argmax(y, axis=1)),\n",
    "            dtype=tf.float32\n",
    "        )\n",
    "    )\n",
    "    loss = tf.losses.softmax_cross_entropy(y, fc)    \n",
    "    learn = tf.train.AdamOptimizer().minimize(loss)\n",
    "\n",
    "    initializer = tf.global_variables_initializer()\n",
    "    \n",
    "    \n",
    "    sess = tf.Session(graph=g)\n",
    "    sess.run(initializer)\n",
    "\n",
    "    tfa = tfadic[case]\n",
    "    for _ in range(iter_n):\n",
    "        tfa.set_batch(batch_n,\n",
    "                      {X: train_X, y: train_y})\n",
    "        tfa.run_session(sess)\n",
    "        tfa.trace([\"loss\", \"acc\"])\n",
    "    print()\n",
    "    \n",
    "    pred = sess.run(acc, feed_dict={X: test_X, y: test_y})\n",
    "    print(\"test accuracy:\", pred)\n",
    "    pred = sess.run(acc, feed_dict={X: train_X, y: train_y})\n",
    "    print(\"train accuracy:\", pred)"
   ]
  }
 ],
 "metadata": {
  "kernelspec": {
   "display_name": "Python 3",
   "language": "python",
   "name": "python3"
  },
  "language_info": {
   "codemirror_mode": {
    "name": "ipython",
    "version": 3
   },
   "file_extension": ".py",
   "mimetype": "text/x-python",
   "name": "python",
   "nbconvert_exporter": "python",
   "pygments_lexer": "ipython3",
   "version": "3.6.4"
  }
 },
 "nbformat": 4,
 "nbformat_minor": 2
}
