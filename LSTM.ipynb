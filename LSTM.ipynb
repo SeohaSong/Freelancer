{
 "cells": [
  {
   "cell_type": "code",
   "execution_count": 2,
   "metadata": {},
   "outputs": [],
   "source": [
    "import pandas as pd\n",
    "import numpy as np\n",
    "import sys\n",
    "import os\n",
    "\n",
    "import tensorflow as tf\n",
    "from gensim.models import Word2Vec"
   ]
  },
  {
   "cell_type": "code",
   "execution_count": 3,
   "metadata": {},
   "outputs": [],
   "source": [
    "class TF_Agent():\n",
    "    \n",
    "    def __init__(self, keys):\n",
    "        self._initialize(keys)\n",
    "        \n",
    "    def _initialize(self, keys):\n",
    "        np.random.seed(0)\n",
    "        self.log_df = pd.DataFrame({key: [] for key in keys})\n",
    "        self.keys = self.log_df.columns\n",
    "        self.interesting = \",\".join(self.log_df.columns)\n",
    "        self.iter_count = 0     \n",
    "\n",
    "    def set_batch(self, n, feed_dict):\n",
    "        \n",
    "        keys = list(feed_dict.keys())\n",
    "        \n",
    "        data_n = len(feed_dict[keys[0]])\n",
    "        indices = np.random.choice(range(data_n), n, replace=False)\n",
    "        \n",
    "        feed_dict = {key: feed_dict[key][indices] for key in keys}\n",
    "        self.feed_dict = feed_dict\n",
    "    \n",
    "    def run_session(self, sess):\n",
    "        \n",
    "        values = sess.run(eval(self.interesting),\n",
    "                          feed_dict=self.feed_dict)\n",
    "        \n",
    "        self.recent_log = pd.Series(values, index=self.keys)\n",
    "        self.log_df = self.log_df.append([self.recent_log])\n",
    "        \n",
    "        self.iter_count += 1\n",
    "        \n",
    "    def trace(self, args, one_line_text=\"\"):\n",
    "        \n",
    "        iter_count = self.iter_count\n",
    "        deco = [\"-\", \"\\\\\", \"|\", \"/\"][iter_count%4]\n",
    "        \n",
    "        one_line_text = \"Iter: % 6d\"%iter_count\n",
    "        for arg in args:\n",
    "            one_line_text += \" %s %s: %0.9f\"%(\n",
    "                deco, arg, self.recent_log[arg]\n",
    "            )\n",
    "\n",
    "        sys.stdout.write(\"\\r%s\"%one_line_text)"
   ]
  },
  {
   "cell_type": "code",
   "execution_count": 4,
   "metadata": {},
   "outputs": [],
   "source": [
    "def set_batch_to_file_system():\n",
    "\n",
    "    def tune_size(i, text):\n",
    "        words = [model.wv[word] for word in text.split()]\n",
    "        length = len(words)\n",
    "        if i%100 == 0:\n",
    "            percent = i/data_n*100\n",
    "            sys.stdout.write(\"\\r% 5.2f%%\"%(percent))\n",
    "        return np.array(words+placeholder[length:])\n",
    "    \n",
    "    df = pd.read_pickle(\"./data/preprocessed_df\")\n",
    "    df = df[df[\"label\"] != \"unsup\"]\n",
    "    \n",
    "    data_n = len(df)    \n",
    "    maxi = max(len(text.split()) for text in df[\"review\"])\n",
    "    placeholder = [np.array([0]*100)]*maxi\n",
    "    \n",
    "    normal_model = Word2Vec.load(\"./data/normal_wv\")\n",
    "    underscore_model = Word2Vec.load(\"./data/underscore_wv\")\n",
    "    model = underscore_model\n",
    "    \n",
    "    batch_names = [\"test\", \"train_1\", \"train_2\", \"train_3\", \"train_4\"]\n",
    "    for i, name in enumerate(batch_names):\n",
    "        if os.path.isfile(\"./data/batch_of_%s\"%name):\n",
    "            break\n",
    "        batch_n = len(batch_names)\n",
    "        start = (data_n//batch_n)*i\n",
    "        end = (data_n//batch_n)*(i+1)\n",
    "        batch_df = df[start:end]\n",
    "        print(\"Tuning %s batch's array size for LSTM...\"%name)\n",
    "        X = np.array([tune_size(i, text)\n",
    "                      for i, text in enumerate(batch_df[\"review\"])])\n",
    "        sys.stdout.write(\"\\r% 5.2f%%\\n\"%100)\n",
    "        y = np.array([[1, 0] if label == \"neg\" else [0, 1]\n",
    "                      for label in batch_df[\"label\"]])        \n",
    "        pd.to_pickle({\"data\": X, \"label\": y}, \"./data/batch_of_%s\"%name)\n",
    "        \n",
    "        \n",
    "def get_batch_from_file_system(s):\n",
    "    df = pd.read_pickle(\"./data/batch_of_%s\"%s)\n",
    "    return df"
   ]
  },
  {
   "cell_type": "code",
   "execution_count": 5,
   "metadata": {},
   "outputs": [],
   "source": [
    "set_batch_to_file_system()"
   ]
  },
  {
   "cell_type": "code",
   "execution_count": 6,
   "metadata": {},
   "outputs": [],
   "source": [
    "dataset = get_batch_from_file_system(\"train_1\")"
   ]
  },
  {
   "cell_type": "code",
   "execution_count": 7,
   "metadata": {},
   "outputs": [
    {
     "name": "stdout",
     "output_type": "stream",
     "text": [
      "(10000, 2473, 100) (10000, 2)\n"
     ]
    }
   ],
   "source": [
    "train_X, train_y = dataset[\"data\"], dataset[\"label\"]\n",
    "print(train_X.shape, train_y.shape)"
   ]
  },
  {
   "cell_type": "code",
   "execution_count": null,
   "metadata": {},
   "outputs": [],
   "source": [
    "tf.reset_default_graph()\n",
    "g = tf.get_default_graph()\n",
    "tf.set_random_seed(50554145)\n",
    "\n",
    "tf.placeholder(dtype=)"
   ]
  },
  {
   "cell_type": "code",
   "execution_count": null,
   "metadata": {},
   "outputs": [],
   "source": []
  }
 ],
 "metadata": {
  "kernelspec": {
   "display_name": "Python 3",
   "language": "python",
   "name": "python3"
  },
  "language_info": {
   "codemirror_mode": {
    "name": "ipython",
    "version": 3
   },
   "file_extension": ".py",
   "mimetype": "text/x-python",
   "name": "python",
   "nbconvert_exporter": "python",
   "pygments_lexer": "ipython3",
   "version": "3.6.4"
  }
 },
 "nbformat": 4,
 "nbformat_minor": 2
}
