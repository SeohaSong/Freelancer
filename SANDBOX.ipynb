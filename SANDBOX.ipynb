{
 "cells": [
  {
   "cell_type": "markdown",
   "metadata": {},
   "source": [
    "# Example algorithm "
   ]
  },
  {
   "cell_type": "code",
   "execution_count": 6,
   "metadata": {},
   "outputs": [],
   "source": [
    "def remove_one_word(self, sentence):\n",
    "    \n",
    "    sess, X = self.sess, self.X\n",
    "    rescent_loss = self.rescent_loss\n",
    "\n",
    "    def attack(i):\n",
    "        victim = sentence.copy()\n",
    "        victim[i] = \"_\"\n",
    "        return victim\n",
    "    \n",
    "    victims = [attack(i) for i in range(len(sentence))]\n",
    "    losses = np.array([sess.run(loss, feed_dict={X: [v]}) for v in victims])\n",
    "    losses = -abs(losses-rescent_loss)\n",
    "    \n",
    "    return victims[losses.argmax()]    "
   ]
  },
  {
   "cell_type": "code",
   "execution_count": null,
   "metadata": {},
   "outputs": [],
   "source": []
  }
 ],
 "metadata": {
  "kernelspec": {
   "display_name": "Python 3",
   "language": "python",
   "name": "python3"
  },
  "language_info": {
   "codemirror_mode": {
    "name": "ipython",
    "version": 3
   },
   "file_extension": ".py",
   "mimetype": "text/x-python",
   "name": "python",
   "nbconvert_exporter": "python",
   "pygments_lexer": "ipython3",
   "version": "3.6.4"
  }
 },
 "nbformat": 4,
 "nbformat_minor": 2
}
